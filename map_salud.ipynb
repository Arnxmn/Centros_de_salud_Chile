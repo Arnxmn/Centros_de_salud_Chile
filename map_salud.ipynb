{
 "cells": [
  {
   "cell_type": "code",
   "execution_count": 62,
   "metadata": {},
   "outputs": [
    {
     "name": "stdout",
     "output_type": "stream",
     "text": [
      "<class 'pandas.core.frame.DataFrame'>\n",
      "RangeIndex: 8740 entries, 0 to 8739\n",
      "Data columns (total 34 columns):\n",
      " #   Column                                   Non-Null Count  Dtype  \n",
      "---  ------                                   --------------  -----  \n",
      " 0   TipoAtencionEstabGlosa                   8740 non-null   object \n",
      " 1   SeremiSaludGlosa_ServicioDeSaludGlosa    8740 non-null   object \n",
      " 2   RegionCodigo                             8740 non-null   object \n",
      " 3   _full_text                               8740 non-null   object \n",
      " 4   ComunaCodigo                             8740 non-null   object \n",
      " 5   ClasificacionTipoSapu                    8740 non-null   object \n",
      " 6   AmbitoFuncionamiento                     8740 non-null   object \n",
      " 7   FechaIncorporacion                       941 non-null    object \n",
      " 8   EstablecimientoCodigo                    8740 non-null   object \n",
      " 9   FechaInicioFuncionamientoEstab           3705 non-null   object \n",
      " 10  Numero                                   8740 non-null   object \n",
      " 11  NombreVia                                8740 non-null   object \n",
      " 12  Longitud                                 8326 non-null   float64\n",
      " 13  Latitud                                  8326 non-null   float64\n",
      " 14  ComunaGlosa                              8740 non-null   object \n",
      " 15  NivelComplejidadEstabGlosa               8740 non-null   object \n",
      " 16  DependenciaAdministrativa                8740 non-null   object \n",
      " 17  SeremiSaludCodigo_ServicioDeSaludCodigo  8667 non-null   object \n",
      " 18  RegionGlosa                              8740 non-null   object \n",
      " 19  TelefonoMovil_TelefonoFijo               8740 non-null   object \n",
      " 20  EstablecimientoGlosa                     8740 non-null   object \n",
      " 21  TipoPertenenciaEstabGlosa                8740 non-null   object \n",
      " 22  TipoSistemaSaludGlosa                    8740 non-null   object \n",
      " 23  TipoUrgencia                             8740 non-null   object \n",
      " 24  EstablecimientoCodigoMadreNuevo          1742 non-null   object \n",
      " 25  Certificacion                            8740 non-null   object \n",
      " 26  EstablecimientoCodigoMadreAntiguo        8740 non-null   object \n",
      " 27  TieneServicioUrgencia                    8740 non-null   object \n",
      " 28  TipoEstablecimientoGlosa                 8740 non-null   object \n",
      " 29  EstablecimientoCodigoAntiguo             8740 non-null   object \n",
      " 30  EstadoFuncionamiento                     8740 non-null   object \n",
      " 31  TipoViaGlosa                             8740 non-null   object \n",
      " 32  _id                                      8740 non-null   int64  \n",
      " 33  NivelAtencionEstabglosa                  8740 non-null   object \n",
      "dtypes: float64(2), int64(1), object(31)\n",
      "memory usage: 2.3+ MB\n",
      "None\n",
      "TipoAtencionEstabGlosa                        0\n",
      "SeremiSaludGlosa_ServicioDeSaludGlosa         0\n",
      "RegionCodigo                                  0\n",
      "_full_text                                    0\n",
      "ComunaCodigo                                  0\n",
      "ClasificacionTipoSapu                         0\n",
      "AmbitoFuncionamiento                          0\n",
      "FechaIncorporacion                         7799\n",
      "EstablecimientoCodigo                         0\n",
      "FechaInicioFuncionamientoEstab             5035\n",
      "Numero                                        0\n",
      "NombreVia                                     0\n",
      "Longitud                                    414\n",
      "Latitud                                     414\n",
      "ComunaGlosa                                   0\n",
      "NivelComplejidadEstabGlosa                    0\n",
      "DependenciaAdministrativa                     0\n",
      "SeremiSaludCodigo_ServicioDeSaludCodigo      73\n",
      "RegionGlosa                                   0\n",
      "TelefonoMovil_TelefonoFijo                    0\n",
      "EstablecimientoGlosa                          0\n",
      "TipoPertenenciaEstabGlosa                     0\n",
      "TipoSistemaSaludGlosa                         0\n",
      "TipoUrgencia                                  0\n",
      "EstablecimientoCodigoMadreNuevo            6998\n",
      "Certificacion                                 0\n",
      "EstablecimientoCodigoMadreAntiguo             0\n",
      "TieneServicioUrgencia                         0\n",
      "TipoEstablecimientoGlosa                      0\n",
      "EstablecimientoCodigoAntiguo                  0\n",
      "EstadoFuncionamiento                          0\n",
      "TipoViaGlosa                                  0\n",
      "_id                                           0\n",
      "NivelAtencionEstabglosa                       0\n",
      "dtype: int64\n"
     ]
    }
   ],
   "source": [
    "import requests\n",
    "import pandas as pd\n",
    "pd.options.mode.chained_assignment = None\n",
    "import json\n",
    "\n",
    "## Get data from GOV DATA\n",
    "\n",
    "try:\n",
    "    #response = requests.get('https://datos.gob.cl/api/3/action/datastore_search?resource_id=2c44d782-3365-44e3-aefb-2c8b8363a1bc')\n",
    "    response = requests.get(\"https://datos.gob.cl/api/3/action/datastore_search_sql?sql=SELECT%20*%20from%20%222c44d782-3365-44e3-aefb-2c8b8363a1bc%22\")\n",
    "   \n",
    "except:\n",
    "    print(\"No internet available\")\n",
    "\n",
    "## Create a variable to store the Json file contents\n",
    "response_json = response.json()\n",
    "\n",
    "## Display dataframe\n",
    "response_json_fields = response_json['result']['fields']\n",
    "response_json_data = response_json['result']['records']\n",
    "df = pd.DataFrame(response_json_data)\n",
    "df['Latitud'] = pd.to_numeric(df['Latitud'], errors='coerce')\n",
    "df['Longitud'] = pd.to_numeric(df['Longitud'], errors='coerce')\n",
    "## Print to check\n",
    "print(df.info())\n",
    "print(df.isnull().sum())\n",
    "#print(\"number of records: \", len(df))\n",
    "#print(\"number of columns: \", len(df.columns)) \n"
   ]
  },
  {
   "cell_type": "markdown",
   "metadata": {},
   "source": [
    "Remove rows where Latitud or Longitud are nulls"
   ]
  },
  {
   "cell_type": "code",
   "execution_count": 66,
   "metadata": {},
   "outputs": [
    {
     "name": "stdout",
     "output_type": "stream",
     "text": [
      "<class 'pandas.core.frame.DataFrame'>\n",
      "Index: 8326 entries, 0 to 8639\n",
      "Data columns (total 34 columns):\n",
      " #   Column                                   Non-Null Count  Dtype  \n",
      "---  ------                                   --------------  -----  \n",
      " 0   TipoAtencionEstabGlosa                   8326 non-null   object \n",
      " 1   SeremiSaludGlosa_ServicioDeSaludGlosa    8326 non-null   object \n",
      " 2   RegionCodigo                             8326 non-null   object \n",
      " 3   _full_text                               8326 non-null   object \n",
      " 4   ComunaCodigo                             8326 non-null   object \n",
      " 5   ClasificacionTipoSapu                    8326 non-null   object \n",
      " 6   AmbitoFuncionamiento                     8326 non-null   object \n",
      " 7   FechaIncorporacion                       561 non-null    object \n",
      " 8   EstablecimientoCodigo                    8326 non-null   object \n",
      " 9   FechaInicioFuncionamientoEstab           3341 non-null   object \n",
      " 10  Numero                                   8326 non-null   object \n",
      " 11  NombreVia                                8326 non-null   object \n",
      " 12  Longitud                                 8326 non-null   float64\n",
      " 13  Latitud                                  8326 non-null   float64\n",
      " 14  ComunaGlosa                              8326 non-null   object \n",
      " 15  NivelComplejidadEstabGlosa               8326 non-null   object \n",
      " 16  DependenciaAdministrativa                8326 non-null   object \n",
      " 17  SeremiSaludCodigo_ServicioDeSaludCodigo  8253 non-null   object \n",
      " 18  RegionGlosa                              8326 non-null   object \n",
      " 19  TelefonoMovil_TelefonoFijo               8326 non-null   object \n",
      " 20  EstablecimientoGlosa                     8326 non-null   object \n",
      " 21  TipoPertenenciaEstabGlosa                8326 non-null   object \n",
      " 22  TipoSistemaSaludGlosa                    8326 non-null   object \n",
      " 23  TipoUrgencia                             8326 non-null   object \n",
      " 24  EstablecimientoCodigoMadreNuevo          1724 non-null   object \n",
      " 25  Certificacion                            8326 non-null   object \n",
      " 26  EstablecimientoCodigoMadreAntiguo        8326 non-null   object \n",
      " 27  TieneServicioUrgencia                    8326 non-null   object \n",
      " 28  TipoEstablecimientoGlosa                 8326 non-null   object \n",
      " 29  EstablecimientoCodigoAntiguo             8326 non-null   object \n",
      " 30  EstadoFuncionamiento                     8326 non-null   object \n",
      " 31  TipoViaGlosa                             8326 non-null   object \n",
      " 32  _id                                      8326 non-null   int64  \n",
      " 33  NivelAtencionEstabglosa                  8326 non-null   object \n",
      "dtypes: float64(2), int64(1), object(31)\n",
      "memory usage: 2.2+ MB\n",
      "None\n",
      "TipoAtencionEstabGlosa                        0\n",
      "SeremiSaludGlosa_ServicioDeSaludGlosa         0\n",
      "RegionCodigo                                  0\n",
      "_full_text                                    0\n",
      "ComunaCodigo                                  0\n",
      "ClasificacionTipoSapu                         0\n",
      "AmbitoFuncionamiento                          0\n",
      "FechaIncorporacion                         7765\n",
      "EstablecimientoCodigo                         0\n",
      "FechaInicioFuncionamientoEstab             4985\n",
      "Numero                                        0\n",
      "NombreVia                                     0\n",
      "Longitud                                      0\n",
      "Latitud                                       0\n",
      "ComunaGlosa                                   0\n",
      "NivelComplejidadEstabGlosa                    0\n",
      "DependenciaAdministrativa                     0\n",
      "SeremiSaludCodigo_ServicioDeSaludCodigo      73\n",
      "RegionGlosa                                   0\n",
      "TelefonoMovil_TelefonoFijo                    0\n",
      "EstablecimientoGlosa                          0\n",
      "TipoPertenenciaEstabGlosa                     0\n",
      "TipoSistemaSaludGlosa                         0\n",
      "TipoUrgencia                                  0\n",
      "EstablecimientoCodigoMadreNuevo            6602\n",
      "Certificacion                                 0\n",
      "EstablecimientoCodigoMadreAntiguo             0\n",
      "TieneServicioUrgencia                         0\n",
      "TipoEstablecimientoGlosa                      0\n",
      "EstablecimientoCodigoAntiguo                  0\n",
      "EstadoFuncionamiento                          0\n",
      "TipoViaGlosa                                  0\n",
      "_id                                           0\n",
      "NivelAtencionEstabglosa                       0\n",
      "dtype: int64\n"
     ]
    }
   ],
   "source": [
    "df= df.dropna(subset=['Latitud', 'Longitud'])\n",
    "## Print to check\n",
    "print(df.info())\n",
    "print(df.isnull().sum())"
   ]
  },
  {
   "cell_type": "markdown",
   "metadata": {},
   "source": [
    "Create distributions based in some of th emost important segmentations such as:\n",
    "1. TipoSistemaSaludGlosa\n",
    "2. EstadoFuncionamiento\n",
    "3. TipoUrgencia\n",
    "5. TieneServicioUrgencia\n",
    "6. NivelAtencionEstabglosa\n",
    "8. TipoEstablecimientoGlosa"
   ]
  },
  {
   "cell_type": "code",
   "execution_count": 63,
   "metadata": {},
   "outputs": [],
   "source": [
    "import seaborn as sns\n",
    "import seaborn.objects as so\n",
    "import textwrap\n",
    "import re\n",
    "\n",
    "def plot_dist(dataset, segment):\n",
    "    #Add spaces between words in the column name nad remove Glosa\n",
    "    fix = (re.sub(r\"(\\w)([A-Z])\", r\"\\1 \\2\", segment)) #.replace('Glosa','')\n",
    "    #Normalize column string values\n",
    "    dataset[segment] = dataset[segment].str.capitalize()\n",
    "    #Plot only the top 10 types\n",
    "    ax = sns.countplot(dataset, y=segment, order=dataset[segment].value_counts().iloc[:10].index)\n",
    "    ax.bar_label(ax.containers[0])\n",
    "    ax.set(\n",
    "        xlabel='# centros',\n",
    "        ylabel=\"\",        \n",
    "        )\n",
    "    #ax.set_yticklabels(ax.get_yticklabels(), ha='right')\n",
    "    ax.set_title(label=f'Distribución de centros por {fix} ( Top 10 )',loc='right')\n",
    "    return ax"
   ]
  },
  {
   "cell_type": "code",
   "execution_count": 64,
   "metadata": {},
   "outputs": [
    {
     "data": {
      "text/plain": [
       "<Axes: title={'right': 'Distribución de centros por Tipo Sistema Salud Glosa ( Top 10 )'}, xlabel='# centros'>"
      ]
     },
     "execution_count": 64,
     "metadata": {},
     "output_type": "execute_result"
    },
    {
     "data": {
      "image/png": "[encoded data removed]",
      "text/plain": [
       "<Figure size 640x480 with 1 Axes>"
      ]
     },
     "metadata": {},
     "output_type": "display_data"
    }
   ],
   "source": [
    "plot_dist(df,'TipoSistemaSaludGlosa')\n",
    "#plot_dist(df,'TipoEstablecimientoGlosa')"
   ]
  },
  {
   "cell_type": "markdown",
   "metadata": {},
   "source": [
    "Create the charts using plotly instead"
   ]
  },
  {
   "cell_type": "code",
   "execution_count": 65,
   "metadata": {},
   "outputs": [
    {
     "data": {
      "application/vnd.plotly.v1+json": {
       "config": {
        "plotlyServerURL": "https://plot.ly"
       },
       "data": [
        {
         "alignmentgroup": "True",
         "hovertemplate": "variable=count<br># centros=%{x}<br>=%{y}<extra></extra>",
         "legendgroup": "count",
         "marker": {
          "color": "#636efa",
          "pattern": {
           "shape": ""
          }
         },
         "name": "count",
         "offsetgroup": "count",
         "orientation": "h",
         "showlegend": true,
         "textposition": "auto",
         "type": "bar",
         "x": [
          2017,
          1162,
          1045,
          678,
          544,
          453,
          431,
          314,
          303,
          265,
          212,
          196,
          186,
          175,
          106,
          86,
          70,
          70,
          54,
          54,
          53,
          36,
          27,
          23,
          22,
          22,
          18,
          11,
          11,
          10,
          9,
          6,
          6,
          6,
          5,
          5,
          5,
          4,
          4,
          4,
          4,
          2,
          2,
          2,
          2,
          2,
          2,
          2,
          2,
          2,
          2,
          2,
          2,
          2,
          2
         ],
         "xaxis": "x",
         "y": [
          "Posta de salud rural (psr)",
          "Centro de salud familiar (cesfam)",
          "Centro de salud privado",
          "Laboratorio clínico",
          "Centro comunitario de salud familiar (cecosf)",
          "Servicio de atención primaria de urgencia (sapu)",
          "Hospital",
          "Servicio de urgencia rural (sur)",
          "Clínica",
          "Clínica dental",
          "Vacunatorio",
          "Centro comunitario de salud mental  (cosam)",
          "Centro de diálisis",
          "Servicio de atención primaria de urgencia de alta resolutividad (sar)",
          "Centro médico y dental",
          "Unidad de procedimientos móvil",
          "Servicio médico legal",
          "Sala  externa de toma de muestras (setm)",
          "Programa de reparación y atención integral de salud (prais)",
          "Dirección servicio de salud",
          "Unidad de salud funcionarios",
          "Policlínico funcionarios (minería)",
          "Consultorio general rural (cgr)",
          "Centro de referencia de salud (crs)",
          "Centro  diagnóstico y tratamiento privado",
          "Dispositivo incorporado por crisis sanitaria",
          "Centro de especialidad",
          "Centro de rehabilitación",
          "Centro de diagnóstico y terapeútico (cdt)",
          "Centro corporación para la nutrición infantil (conin)",
          "Centro de apoyo comunitario para personas con demencia",
          "Hospital de dia adulto",
          "Centro de salud",
          "Centro  diagnóstico y tratamiento pivado",
          "Otro",
          "Hospital de día infanto adolescente",
          "Oficina sanitaria",
          "Atención remota",
          "Puesto de atención médica especializado (pame) incorporado por crisis sanitaria",
          "Centros exclusivos de atención respiratoria (cear)",
          "Centros de diagnóstico y tratamiento privados",
          "Centro de regulación médica de las urgencias (samu)",
          "Centro de salud mental",
          "Consultorio general urbano  (cgu)",
          "Especialidades  primarias",
          "Centro de tratamiento de adicciones (cta)",
          "No aplica",
          "Centro médico",
          "Unidad de atención primaria oftalmológica (uapo)",
          "Servicio de atención primaria de urgencia  alta resolutividad (sar)",
          "Centro de especialidades primarias",
          "Laboratorio clínico o dental",
          "Centro radiológico",
          "Centro de especialidades",
          "Centro de diagnóstico y terapeútico"
         ],
         "yaxis": "y"
        }
       ],
       "layout": {
        "barmode": "relative",
        "hovermode": "y",
        "legend": {
         "title": {
          "text": "variable"
         },
         "tracegroupgap": 0
        },
        "showlegend": false,
        "template": {
         "data": {
          "bar": [
           {
            "error_x": {
             "color": "#2a3f5f"
            },
            "error_y": {
             "color": "#2a3f5f"
            },
            "marker": {
             "line": {
              "color": "#E5ECF6",
              "width": 0.5
             },
             "pattern": {
              "fillmode": "overlay",
              "size": 10,
              "solidity": 0.2
             }
            },
            "type": "bar"
           }
          ],
          "barpolar": [
           {
            "marker": {
             "line": {
              "color": "#E5ECF6",
              "width": 0.5
             },
             "pattern": {
              "fillmode": "overlay",
              "size": 10,
              "solidity": 0.2
             }
            },
            "type": "barpolar"
           }
          ],
          "carpet": [
           {
            "aaxis": {
             "endlinecolor": "#2a3f5f",
             "gridcolor": "white",
             "linecolor": "white",
             "minorgridcolor": "white",
             "startlinecolor": "#2a3f5f"
            },
            "baxis": {
             "endlinecolor": "#2a3f5f",
             "gridcolor": "white",
             "linecolor": "white",
             "minorgridcolor": "white",
             "startlinecolor": "#2a3f5f"
            },
            "type": "carpet"
           }
          ],
          "choropleth": [
           {
            "colorbar": {
             "outlinewidth": 0,
             "ticks": ""
            },
            "type": "choropleth"
           }
          ],
          "contour": [
           {
            "colorbar": {
             "outlinewidth": 0,
             "ticks": ""
            },
            "colorscale": [
             [
              0,
              "#0d0887"
             ],
             [
              0.1111111111111111,
              "#46039f"
             ],
             [
              0.2222222222222222,
              "#7201a8"
             ],
             [
              0.3333333333333333,
              "#9c179e"
             ],
             [
              0.4444444444444444,
              "#bd3786"
             ],
             [
              0.5555555555555556,
              "#d8576b"
             ],
             [
              0.6666666666666666,
              "#ed7953"
             ],
             [
              0.7777777777777778,
              "#fb9f3a"
             ],
             [
              0.8888888888888888,
              "#fdca26"
             ],
             [
              1,
              "#f0f921"
             ]
            ],
            "type": "contour"
           }
          ],
          "contourcarpet": [
           {
            "colorbar": {
             "outlinewidth": 0,
             "ticks": ""
            },
            "type": "contourcarpet"
           }
          ],
          "heatmap": [
           {
            "colorbar": {
             "outlinewidth": 0,
             "ticks": ""
            },
            "colorscale": [
             [
              0,
              "#0d0887"
             ],
             [
              0.1111111111111111,
              "#46039f"
             ],
             [
              0.2222222222222222,
              "#7201a8"
             ],
             [
              0.3333333333333333,
              "#9c179e"
             ],
             [
              0.4444444444444444,
              "#bd3786"
             ],
             [
              0.5555555555555556,
              "#d8576b"
             ],
             [
              0.6666666666666666,
              "#ed7953"
             ],
             [
              0.7777777777777778,
              "#fb9f3a"
             ],
             [
              0.8888888888888888,
              "#fdca26"
             ],
             [
              1,
              "#f0f921"
             ]
            ],
            "type": "heatmap"
           }
          ],
          "heatmapgl": [
           {
            "colorbar": {
             "outlinewidth": 0,
             "ticks": ""
            },
            "colorscale": [
             [
              0,
              "#0d0887"
             ],
             [
              0.1111111111111111,
              "#46039f"
             ],
             [
              0.2222222222222222,
              "#7201a8"
             ],
             [
              0.3333333333333333,
              "#9c179e"
             ],
             [
              0.4444444444444444,
              "#bd3786"
             ],
             [
              0.5555555555555556,
              "#d8576b"
             ],
             [
              0.6666666666666666,
              "#ed7953"
             ],
             [
              0.7777777777777778,
              "#fb9f3a"
             ],
             [
              0.8888888888888888,
              "#fdca26"
             ],
             [
              1,
              "#f0f921"
             ]
            ],
            "type": "heatmapgl"
           }
          ],
          "histogram": [
           {
            "marker": {
             "pattern": {
              "fillmode": "overlay",
              "size": 10,
              "solidity": 0.2
             }
            },
            "type": "histogram"
           }
          ],
          "histogram2d": [
           {
            "colorbar": {
             "outlinewidth": 0,
             "ticks": ""
            },
            "colorscale": [
             [
              0,
              "#0d0887"
             ],
             [
              0.1111111111111111,
              "#46039f"
             ],
             [
              0.2222222222222222,
              "#7201a8"
             ],
             [
              0.3333333333333333,
              "#9c179e"
             ],
             [
              0.4444444444444444,
              "#bd3786"
             ],
             [
              0.5555555555555556,
              "#d8576b"
             ],
             [
              0.6666666666666666,
              "#ed7953"
             ],
             [
              0.7777777777777778,
              "#fb9f3a"
             ],
             [
              0.8888888888888888,
              "#fdca26"
             ],
             [
              1,
              "#f0f921"
             ]
            ],
            "type": "histogram2d"
           }
          ],
          "histogram2dcontour": [
           {
            "colorbar": {
             "outlinewidth": 0,
             "ticks": ""
            },
            "colorscale": [
             [
              0,
              "#0d0887"
             ],
             [
              0.1111111111111111,
              "#46039f"
             ],
             [
              0.2222222222222222,
              "#7201a8"
             ],
             [
              0.3333333333333333,
              "#9c179e"
             ],
             [
              0.4444444444444444,
              "#bd3786"
             ],
             [
              0.5555555555555556,
              "#d8576b"
             ],
             [
              0.6666666666666666,
              "#ed7953"
             ],
             [
              0.7777777777777778,
              "#fb9f3a"
             ],
             [
              0.8888888888888888,
              "#fdca26"
             ],
             [
              1,
              "#f0f921"
             ]
            ],
            "type": "histogram2dcontour"
           }
          ],
          "mesh3d": [
           {
            "colorbar": {
             "outlinewidth": 0,
             "ticks": ""
            },
            "type": "mesh3d"
           }
          ],
          "parcoords": [
           {
            "line": {
             "colorbar": {
              "outlinewidth": 0,
              "ticks": ""
             }
            },
            "type": "parcoords"
           }
          ],
          "pie": [
           {
            "automargin": true,
            "type": "pie"
           }
          ],
          "scatter": [
           {
            "fillpattern": {
             "fillmode": "overlay",
             "size": 10,
             "solidity": 0.2
            },
            "type": "scatter"
           }
          ],
          "scatter3d": [
           {
            "line": {
             "colorbar": {
              "outlinewidth": 0,
              "ticks": ""
             }
            },
            "marker": {
             "colorbar": {
              "outlinewidth": 0,
              "ticks": ""
             }
            },
            "type": "scatter3d"
           }
          ],
          "scattercarpet": [
           {
            "marker": {
             "colorbar": {
              "outlinewidth": 0,
              "ticks": ""
             }
            },
            "type": "scattercarpet"
           }
          ],
          "scattergeo": [
           {
            "marker": {
             "colorbar": {
              "outlinewidth": 0,
              "ticks": ""
             }
            },
            "type": "scattergeo"
           }
          ],
          "scattergl": [
           {
            "marker": {
             "colorbar": {
              "outlinewidth": 0,
              "ticks": ""
             }
            },
            "type": "scattergl"
           }
          ],
          "scattermapbox": [
           {
            "marker": {
             "colorbar": {
              "outlinewidth": 0,
              "ticks": ""
             }
            },
            "type": "scattermapbox"
           }
          ],
          "scatterpolar": [
           {
            "marker": {
             "colorbar": {
              "outlinewidth": 0,
              "ticks": ""
             }
            },
            "type": "scatterpolar"
           }
          ],
          "scatterpolargl": [
           {
            "marker": {
             "colorbar": {
              "outlinewidth": 0,
              "ticks": ""
             }
            },
            "type": "scatterpolargl"
           }
          ],
          "scatterternary": [
           {
            "marker": {
             "colorbar": {
              "outlinewidth": 0,
              "ticks": ""
             }
            },
            "type": "scatterternary"
           }
          ],
          "surface": [
           {
            "colorbar": {
             "outlinewidth": 0,
             "ticks": ""
            },
            "colorscale": [
             [
              0,
              "#0d0887"
             ],
             [
              0.1111111111111111,
              "#46039f"
             ],
             [
              0.2222222222222222,
              "#7201a8"
             ],
             [
              0.3333333333333333,
              "#9c179e"
             ],
             [
              0.4444444444444444,
              "#bd3786"
             ],
             [
              0.5555555555555556,
              "#d8576b"
             ],
             [
              0.6666666666666666,
              "#ed7953"
             ],
             [
              0.7777777777777778,
              "#fb9f3a"
             ],
             [
              0.8888888888888888,
              "#fdca26"
             ],
             [
              1,
              "#f0f921"
             ]
            ],
            "type": "surface"
           }
          ],
          "table": [
           {
            "cells": {
             "fill": {
              "color": "#EBF0F8"
             },
             "line": {
              "color": "white"
             }
            },
            "header": {
             "fill": {
              "color": "#C8D4E3"
             },
             "line": {
              "color": "white"
             }
            },
            "type": "table"
           }
          ]
         },
         "layout": {
          "annotationdefaults": {
           "arrowcolor": "#2a3f5f",
           "arrowhead": 0,
           "arrowwidth": 1
          },
          "autotypenumbers": "strict",
          "coloraxis": {
           "colorbar": {
            "outlinewidth": 0,
            "ticks": ""
           }
          },
          "colorscale": {
           "diverging": [
            [
             0,
             "#8e0152"
            ],
            [
             0.1,
             "#c51b7d"
            ],
            [
             0.2,
             "#de77ae"
            ],
            [
             0.3,
             "#f1b6da"
            ],
            [
             0.4,
             "#fde0ef"
            ],
            [
             0.5,
             "#f7f7f7"
            ],
            [
             0.6,
             "#e6f5d0"
            ],
            [
             0.7,
             "#b8e186"
            ],
            [
             0.8,
             "#7fbc41"
            ],
            [
             0.9,
             "#4d9221"
            ],
            [
             1,
             "#276419"
            ]
           ],
           "sequential": [
            [
             0,
             "#0d0887"
            ],
            [
             0.1111111111111111,
             "#46039f"
            ],
            [
             0.2222222222222222,
             "#7201a8"
            ],
            [
             0.3333333333333333,
             "#9c179e"
            ],
            [
             0.4444444444444444,
             "#bd3786"
            ],
            [
             0.5555555555555556,
             "#d8576b"
            ],
            [
             0.6666666666666666,
             "#ed7953"
            ],
            [
             0.7777777777777778,
             "#fb9f3a"
            ],
            [
             0.8888888888888888,
             "#fdca26"
            ],
            [
             1,
             "#f0f921"
            ]
           ],
           "sequentialminus": [
            [
             0,
             "#0d0887"
            ],
            [
             0.1111111111111111,
             "#46039f"
            ],
            [
             0.2222222222222222,
             "#7201a8"
            ],
            [
             0.3333333333333333,
             "#9c179e"
            ],
            [
             0.4444444444444444,
             "#bd3786"
            ],
            [
             0.5555555555555556,
             "#d8576b"
            ],
            [
             0.6666666666666666,
             "#ed7953"
            ],
            [
             0.7777777777777778,
             "#fb9f3a"
            ],
            [
             0.8888888888888888,
             "#fdca26"
            ],
            [
             1,
             "#f0f921"
            ]
           ]
          },
          "colorway": [
           "#636efa",
           "#EF553B",
           "#00cc96",
           "#ab63fa",
           "#FFA15A",
           "#19d3f3",
           "#FF6692",
           "#B6E880",
           "#FF97FF",
           "#FECB52"
          ],
          "font": {
           "color": "#2a3f5f"
          },
          "geo": {
           "bgcolor": "white",
           "lakecolor": "white",
           "landcolor": "#E5ECF6",
           "showlakes": true,
           "showland": true,
           "subunitcolor": "white"
          },
          "hoverlabel": {
           "align": "left"
          },
          "hovermode": "closest",
          "mapbox": {
           "style": "light"
          },
          "paper_bgcolor": "white",
          "plot_bgcolor": "#E5ECF6",
          "polar": {
           "angularaxis": {
            "gridcolor": "white",
            "linecolor": "white",
            "ticks": ""
           },
           "bgcolor": "#E5ECF6",
           "radialaxis": {
            "gridcolor": "white",
            "linecolor": "white",
            "ticks": ""
           }
          },
          "scene": {
           "xaxis": {
            "backgroundcolor": "#E5ECF6",
            "gridcolor": "white",
            "gridwidth": 2,
            "linecolor": "white",
            "showbackground": true,
            "ticks": "",
            "zerolinecolor": "white"
           },
           "yaxis": {
            "backgroundcolor": "#E5ECF6",
            "gridcolor": "white",
            "gridwidth": 2,
            "linecolor": "white",
            "showbackground": true,
            "ticks": "",
            "zerolinecolor": "white"
           },
           "zaxis": {
            "backgroundcolor": "#E5ECF6",
            "gridcolor": "white",
            "gridwidth": 2,
            "linecolor": "white",
            "showbackground": true,
            "ticks": "",
            "zerolinecolor": "white"
           }
          },
          "shapedefaults": {
           "line": {
            "color": "#2a3f5f"
           }
          },
          "ternary": {
           "aaxis": {
            "gridcolor": "white",
            "linecolor": "white",
            "ticks": ""
           },
           "baxis": {
            "gridcolor": "white",
            "linecolor": "white",
            "ticks": ""
           },
           "bgcolor": "#E5ECF6",
           "caxis": {
            "gridcolor": "white",
            "linecolor": "white",
            "ticks": ""
           }
          },
          "title": {
           "x": 0.05
          },
          "xaxis": {
           "automargin": true,
           "gridcolor": "white",
           "linecolor": "white",
           "ticks": "",
           "title": {
            "standoff": 15
           },
           "zerolinecolor": "white",
           "zerolinewidth": 2
          },
          "yaxis": {
           "automargin": true,
           "gridcolor": "white",
           "linecolor": "white",
           "ticks": "",
           "title": {
            "standoff": 15
           },
           "zerolinecolor": "white",
           "zerolinewidth": 2
          }
         }
        },
        "title": {
         "text": "Distribución de centros por Tipo Establecimiento Glosa"
        },
        "xaxis": {
         "anchor": "y",
         "domain": [
          0,
          1
         ],
         "title": {
          "text": "# centros"
         }
        },
        "yaxis": {
         "anchor": "x",
         "categoryorder": "total ascending",
         "domain": [
          0,
          1
         ],
         "title": {
          "text": ""
         }
        }
       }
      }
     },
     "metadata": {},
     "output_type": "display_data"
    }
   ],
   "source": [
    "import plotly.express as px\n",
    "import plotly.graph_objects as go\n",
    "from plotly.subplots import make_subplots\n",
    "\n",
    "def plot_bar_h(dataset, segment):\n",
    "    #Add spaces between words in the column name nad remove Glosa\n",
    "    fix = (re.sub(r\"(\\w)([A-Z])\", r\"\\1 \\2\", segment)) #.replace('Glosa','')\n",
    "    #Normalize column string values\n",
    "    dataset[segment] = dataset[segment].str.capitalize()\n",
    "    #Plot only the top 10 types\n",
    "    fig = px.bar(\n",
    "                dataset[segment].value_counts(),\n",
    "                orientation='h', \n",
    "                title=f'Distribución de centros por {fix}',\n",
    "                labels={'value': '# centros', segment :''}\n",
    "                )\n",
    "    fig.update_layout(\n",
    "                yaxis={'categoryorder':'total ascending'},\n",
    "                showlegend=False,\n",
    "                hovermode='y'\n",
    "                )\n",
    "    return fig\n",
    "\n",
    "#plot_bar_h(df, 'TipoSistemaSaludGlosa')\n",
    "plot_bar_h(df,'TipoEstablecimientoGlosa')\n",
    "\n",
    "#fig = px.histogram(df, y='TipoSistemaSaludGlosa', orientation='h')\n",
    "#fig.show()"
   ]
  },
  {
   "cell_type": "markdown",
   "metadata": {},
   "source": [
    "Create a function that will create a map to plot the different centers "
   ]
  },
  {
   "cell_type": "code",
   "execution_count": 67,
   "metadata": {},
   "outputs": [],
   "source": [
    "# Import libraries needed to create the map\n",
    "import matplotlib.pyplot as plt\n",
    "import geopandas as gpd\n",
    "from shapely.geometry import Point, Polygon\n",
    "\n",
    "# Function to create the map\n",
    "\n",
    "def plot_map(subset_val):\n",
    "    ## Create new dataset with coordinate data point with new lat/log as numeric\n",
    "    mdf = gpd.GeoDataFrame(subset_val ,crs=\"EPSG:4326\", geometry=gpd.points_from_xy(subset_val.Longitud, subset_val.Latitud))\n",
    "    # Get the center from the subset\n",
    "    center = (mdf['Latitud'].mean(), mdf['Longitud'].mean())\n",
    "    ## Create map and export to html\n",
    "    \n",
    "    import folium\n",
    "    interactive_map = folium.Map(\n",
    "        location=center, \n",
    "        zoom_start=13, \n",
    "        control_scale=True, \n",
    "        tiles=\"https://mt1.google.com/vt/lyrs=r&x={x}&y={y}&z={z}\",\n",
    "        attr=\"Google maps\"\n",
    "        )\n",
    "    tooltip_info = folium.GeoJsonTooltip(\n",
    "        fields=['EstablecimientoGlosa','TipoEstablecimientoGlosa', 'ComunaGlosa' ,'TieneServicioUrgencia' ],\n",
    "        aliases=['Nombre:', 'Tipo:', 'Dirección:', 'Tiene Urgencia:'],\n",
    "        localize=True,\n",
    "        sticky=False,\n",
    "        labels=True,\n",
    "        max_width=800\n",
    "        )\n",
    "    addresses_layer = folium.features.GeoJson(\n",
    "        mdf,\n",
    "        name=\"Servicios de Salud\",\n",
    "        #popup=popup_info\n",
    "        tooltip=tooltip_info\n",
    "        )\n",
    "    addresses_layer.add_to(interactive_map)\n",
    "    ## Save the map as html code to later use it with Dash\n",
    "    src_doc_val = interactive_map.get_root().render()\n",
    "\n",
    "    return src_doc_val\n"
   ]
  },
  {
   "cell_type": "markdown",
   "metadata": {},
   "source": [
    "Define layout needed for the App\n",
    "\n",
    "1. Menu with 2 dropw down lists\n",
    "2. Two charts\n",
    "3. A Map\n"
   ]
  },
  {
   "cell_type": "code",
   "execution_count": 68,
   "metadata": {},
   "outputs": [
    {
     "name": "stdout",
     "output_type": "stream",
     "text": [
      "['Aisén' 'Algarrobo' 'Alhué' 'Alto Biobío' 'Alto Hospicio'\n",
      " 'Alto del Carmen' 'Ancud' 'Andacollo' 'Angol' 'Antofagasta' 'Antuco'\n",
      " 'Arauco' 'Arica' 'Buin' 'Bulnes' 'Cabildo' 'Cabo de Hornos' 'Cabrero'\n",
      " 'Calama' 'Calbuco' 'Caldera' 'Calera' 'Calera de Tango' 'Calle Larga'\n",
      " 'Camarones' 'Camiña' 'Canela' 'Carahue' 'Cartagena' 'Casablanca' 'Castro'\n",
      " 'Catemu' 'Cauquenes' 'Cañete' 'Cerrillos' 'Cerro Navia' 'Chaitén'\n",
      " 'Chanco' 'Chañaral' 'Chepica' 'Chiguayante' 'Chile Chico' 'Chillán'\n",
      " 'Chillán Viejo' 'Chimbarongo' 'Cholchol' 'Chonchi' 'Cisnes' 'Cobquecura'\n",
      " 'Cochamó' 'Cochrane' 'Codegua' 'Coelemu' 'Coihueco' 'Coinco' 'Colbún'\n",
      " 'Colchane' 'Colina' 'Collipulli' 'Coltauco' 'Combarbalá' 'Con Con'\n",
      " 'Concepción' 'Conchalí' 'Constitución' 'Contulmo' 'Copiapó' 'Coquimbo'\n",
      " 'Coronel' 'Corral' 'Coyhaique' 'Cunco' 'Curacautín' 'Curacaví'\n",
      " 'Curaco de Vélez' 'Curanilahue' 'Curarrehue' 'Curepto' 'Curicó'\n",
      " 'Dalcahue' 'Diego de Almagro' 'Doñihue' 'El Bosque' 'El Carmen'\n",
      " 'El Monte' 'El Quisco' 'El Tabo' 'Empedrado' 'Ercilla' 'Estación Central'\n",
      " 'Florida' 'Freire' 'Freirina' 'Fresia' 'Frutillar' 'Futaleufú' 'Futrono'\n",
      " 'Galvarino' 'General Lagos' 'Gorbea' 'Graneros' 'Guaitecas' 'Hijuelas'\n",
      " 'Hualaihué' 'Hualañé' 'Hualpén' 'Hualqui' 'Huara' 'Huasco' 'Huechuraba'\n",
      " 'Illapel' 'Independencia' 'Iquique' 'Isla de Maipo' 'Isla de Pascua'\n",
      " 'Juan Fernández' 'La Cisterna' 'La Cruz' 'La Estrella' 'La Florida'\n",
      " 'La Granja' 'La Higuera' 'La Ligua' 'La Pintana' 'La Reina' 'La Serena'\n",
      " 'La Unión' 'Lago Ranco' 'Lago Verde' 'Laguna Blanca' 'Laja' 'Lampa'\n",
      " 'Lanco' 'Las Cabras' 'Las Condes' 'Lautaro' 'Lebu' 'Licantén' 'Limache'\n",
      " 'Linares' 'Litueche' 'Llaillay' 'Llanquihue' 'Lo Barnechea' 'Lo Espejo'\n",
      " 'Lo Prado' 'Lolol' 'Loncoche' 'Longaví' 'Lonquimay' 'Los Andes'\n",
      " 'Los Lagos' 'Los Muermos' 'Los Sauces' 'Los Vilos' 'Los Álamos'\n",
      " 'Los Ángeles' 'Lota' 'Lumaco' 'Machalí' 'Macul' 'Maipú' 'Malloa'\n",
      " 'Marchihue' 'Maria Elena' 'Maria Pinto' 'Mariquina' 'Maule' 'Maullín'\n",
      " 'Mejillones' 'Melipeuco' 'Melipilla' 'Molina' 'Monte Patria' 'Mostazal'\n",
      " 'Mulchén' 'Máfil' 'Nacimiento' 'Nancagua' 'Natales' 'Navidad' 'Negrete'\n",
      " 'Ninhue' 'Nogales' 'Nueva Imperial' \"O'Higgins\" 'Olivar' 'Ollagüe'\n",
      " 'Olmué' 'Osorno' 'Ovalle' 'Padre Hurtado' 'Padre Las Casas' 'Paiguano'\n",
      " 'Paillaco' 'Paine' 'Palena' 'Palmilla' 'Panguipulli' 'Panquehue' 'Papudo'\n",
      " 'Paredones' 'Parral' 'Pedro Aguirre Cerda' 'Pelarco' 'Pelluhue' 'Pemuco'\n",
      " 'Pencahue' 'Penco' 'Peralillo' 'Perquenco' 'Petorca' 'Peumo' 'Peñaflor'\n",
      " 'Peñalolén' 'Pica' 'Pichidegua' 'Pichilemu' 'Pinto' 'Pirque' 'Pitrufquén'\n",
      " 'Placilla' 'Portezuelo' 'Porvenir' 'Pozo Almonte' 'Providencia'\n",
      " 'Puchuncaví' 'Pucón' 'Pudahuel' 'Puente Alto' 'Puerto Montt'\n",
      " 'Puerto Octay' 'Puerto Varas' 'Pumanque' 'Punitaqui' 'Punta Arenas'\n",
      " 'Puqueldón' 'Purranque' 'Purén' 'Putaendo' 'Putre' 'Puyehue' 'Queilén'\n",
      " 'Quellón' 'Quemchi' 'Quilaco' 'Quilicura' 'Quilleco' 'Quillota' 'Quillón'\n",
      " 'Quilpué' 'Quinchao' 'Quinta Normal' 'Quinta de Tilcoco' 'Quintero'\n",
      " 'Quirihue' 'Rancagua' 'Rauco' 'Recoleta' 'Renaico' 'Renca' 'Rengo'\n",
      " 'Requínoa' 'Retiro' 'Rinconada' 'Romeral' 'Ránquil' 'Río Bueno'\n",
      " 'Río Claro' 'Río Hurtado' 'Río Ibáñez' 'Río Negro' 'Río Verde' 'Saavedra'\n",
      " 'Sagrada Familia' 'Salamanca' 'San Antonio' 'San Bernardo' 'San Carlos'\n",
      " 'San Clemente' 'San Esteban' 'San Fabián' 'San Felipe' 'San Fernando'\n",
      " 'San Gregorio' 'San Ignacio' 'San Javier' 'San Joaquín'\n",
      " 'San José de Maipo' 'San Juan de la Costa' 'San Miguel' 'San Nicolás'\n",
      " 'San Pablo' 'San Pedro' 'San Pedro de Atacama' 'San Pedro de la Paz'\n",
      " 'San Rafael' 'San Ramón' 'San Rosendo' 'San Vicente' 'Santa Bárbara'\n",
      " 'Santa Cruz' 'Santa Juana' 'Santa Maria' 'Santiago' 'Santo Domingo'\n",
      " 'Sierra Gorda' 'Talagante' 'Talca' 'Talcahuano' 'Taltal' 'Temuco' 'Teno'\n",
      " 'Teodoro Schmidt' 'Tierra Amarilla' 'Tiltil' 'Timaukel' 'Tirúa'\n",
      " 'Tocopilla' 'Toltén' 'Tome' 'Torres del Paine' 'Tortel' 'Traiguén'\n",
      " 'Treguaco' 'Tucapel' 'Valdivia' 'Vallenar' 'Valparaíso' 'Vichuquén'\n",
      " 'Victoria' 'Vicuña' 'Vilcún' 'Villa Alegre' 'Villa Alemana' 'Villarrica'\n",
      " 'Vitacura' 'Viña del Mar' 'Yerbas Buenas' 'Yumbel' 'Yungay' 'Zapallar'\n",
      " 'Ñiquén' 'Ñuñoa'] ['Región De Antofagasta' 'Región De Arica Parinacota' 'Región De Atacama'\n",
      " 'Región De Aysén del General Carlos Ibañez del Campo'\n",
      " 'Región De Coquimbo' 'Región De La Araucanía' 'Región De Los Lagos'\n",
      " 'Región De Los Ríos' 'Región De Magallanes y de la Antártica Chilena'\n",
      " 'Región De Tarapacá' 'Región De Valparaíso' 'Región De Ñuble'\n",
      " 'Región Del Bíobío' \"Región Del Libertador Gral. B. O'Higgins\"\n",
      " 'Región Del Maule' 'Región Metropolitana de Santiago']\n"
     ]
    }
   ],
   "source": [
    "## To make the app interactive, we need to create a function that will create the map based on the selected parameters by the user\n",
    "## IN this case we will have  2 parameters : Region and Comuna\n",
    "## Based on the selected Region and Comuna , we need to perform the several steps :\n",
    "##  a.  Create a subset dataset based on the region and comuna selected\n",
    "##  b.  Create the map using the outputs of a and b\n",
    "\n",
    "# Create 2 more datasets that will contain the unique list of comunas and regions\n",
    "lista_comunas = df['ComunaGlosa'].sort_values().unique()\n",
    "lista_regiones = df['RegionGlosa'].sort_values().unique()\n",
    "print(lista_comunas, lista_regiones)"
   ]
  },
  {
   "cell_type": "markdown",
   "metadata": {},
   "source": [
    "Define the app layout"
   ]
  },
  {
   "cell_type": "code",
   "execution_count": 69,
   "metadata": {},
   "outputs": [
    {
     "data": {
      "text/html": [
       "\n",
       "        <iframe\n",
       "            width=\"100%\"\n",
       "            height=\"650\"\n",
       "            src=\"http://127.0.0.1:2223/\"\n",
       "            frameborder=\"0\"\n",
       "            allowfullscreen\n",
       "            \n",
       "        ></iframe>\n",
       "        "
      ],
      "text/plain": [
       "<IPython.lib.display.IFrame at 0x259c9aeec60>"
      ]
     },
     "metadata": {},
     "output_type": "display_data"
    }
   ],
   "source": [
    "# app.py\n",
    "import dash\n",
    "from dash import Dash, html, dcc, callback, Output, Input, dash_table\n",
    "\n",
    "## Define the Application\n",
    "\n",
    "app = Dash(__name__)\n",
    "app.title = 'Aplicación para buscar centros de salud en Chile'\n",
    "\n",
    "app.layout = html.Div(\n",
    "    className='row',\n",
    "    children=\n",
    "    [\n",
    "        #Title:\n",
    "        html.H1('Centros de Salud en Chile'),\n",
    "        #Dropdpwns\n",
    "        html.Div(\n",
    "            children=\n",
    "            [\n",
    "            dcc.Dropdown(id=\"dropdown-region\",\n",
    "                         #style={'display': 'inline-block'},\n",
    "                         options=[\n",
    "                            {\n",
    "                                \"label\": reg_nm, \n",
    "                                \"value\": reg_nm\n",
    "                            }\n",
    "                            for reg_nm in lista_regiones\n",
    "                         ],\n",
    "                         clearable=True,\n",
    "                        ),\n",
    "            dcc.Dropdown(id=\"dropdown-comuna\",\n",
    "                         #style={'display': 'inline-block'},\n",
    "                         options=[],\n",
    "                         clearable=True,\n",
    "                         )\n",
    "            ]\n",
    "        ),\n",
    "        #Charts and Map\n",
    "        html.Div(\n",
    "            children=\n",
    "            [\n",
    "            dcc.Graph(id=\"graph1\", style={'display': 'inline-block'}),\n",
    "            dcc.Graph(id=\"graph2\", style={'display': 'inline-block'})\n",
    "            ]\n",
    "        ),\n",
    "        #Map\n",
    "        html.Div(id='map')\n",
    "    ]\n",
    ")\n",
    "## First callback to get the list of comunas from the selected Region\n",
    "@app.callback(\n",
    "        Output('dropdown-comuna', 'options'),\n",
    "        Input('dropdown-region', 'value')\n",
    ")\n",
    "def get_comunas_options(region_val):\n",
    "    filtered_list = df[df['RegionGlosa']== region_val]\n",
    "    lista_comunas = filtered_list['ComunaGlosa'].sort_values().unique()\n",
    "    return [{\"label\": cmn_nm, \"value\": cmn_nm} for cmn_nm in lista_comunas]\n",
    "\n",
    "## Second callback to get the correct dataset and create the plots and map needed\n",
    "@app.callback(\n",
    "    Output('graph1', 'figure'),\n",
    "    Output('graph2', 'figure'),\n",
    "    Output('map', 'children'),\n",
    "    Input('dropdown-region', 'value'),\n",
    "    Input('dropdown-comuna', 'value')\n",
    ")\n",
    "def selected_map(region_val,comuna_val):\n",
    "    # Create the dataset based on selection\n",
    "    # 1. No selected region/comuna, use all data\n",
    "    if (region_val is None or region_val ==[]) and (comuna_val is None or comuna_val ==[]):\n",
    "        subset = df\n",
    "        \n",
    "    # 2. Select by region only \n",
    "    elif (comuna_val is None or comuna_val ==[]):\n",
    "        subset = df[df['RegionGlosa']== region_val]\n",
    "        \n",
    "    # 3. Select comuna only\n",
    "    elif (region_val is None or region_val ==[]):\n",
    "        region_val=df[df['ComunaGlosa']== comuna_val]['RegionGlosa'].unique()\n",
    "        subset = df[df['ComunaGlosa']== comuna_val]\n",
    "\n",
    "    # 4. Selected Region and then comuna\n",
    "    else:\n",
    "        subset = df[(df['RegionGlosa']== region_val) & (df['ComunaGlosa']== comuna_val)]\n",
    "        \n",
    "        \n",
    "    return plot_bar_h(subset, 'TipoSistemaSaludGlosa'), plot_bar_h(subset,'TipoEstablecimientoGlosa'), html.Iframe(srcDoc = plot_map(subset),width = '100%', height = '600')\n",
    "\n",
    "if __name__ == \"__main__\":\n",
    "    app.run_server(port=2223, debug=True)"
   ]
  },
  {
   "cell_type": "markdown",
   "metadata": {},
   "source": [
    "New app version with a better layout using bootstrap containers"
   ]
  },
  {
   "cell_type": "code",
   "execution_count": 76,
   "metadata": {},
   "outputs": [
    {
     "data": {
      "text/html": [
       "\n",
       "        <iframe\n",
       "            width=\"100%\"\n",
       "            height=\"650\"\n",
       "            src=\"http://127.0.0.1:2223/\"\n",
       "            frameborder=\"0\"\n",
       "            allowfullscreen\n",
       "            \n",
       "        ></iframe>\n",
       "        "
      ],
      "text/plain": [
       "<IPython.lib.display.IFrame at 0x259cedce720>"
      ]
     },
     "metadata": {},
     "output_type": "display_data"
    }
   ],
   "source": [
    "# app.py\n",
    "import dash\n",
    "from dash import Dash, html, dcc, callback, Output, Input, dash_table\n",
    "import dash_bootstrap_components as dbc\n",
    "\n",
    "## Define the Application\n",
    "\n",
    "app = Dash(__name__, external_stylesheets=[dbc.themes.LITERA])\n",
    "\n",
    "#First drowpdown will be region\n",
    "region_drowpdown = html.Div(\n",
    "    [\n",
    "        html.Label('Select Region', htmlFor='dropdown-region'),\n",
    "        dcc.Dropdown(id=\"dropdown-region\",\n",
    "                         options=[\n",
    "                            {\n",
    "                                \"label\": reg_nm, \n",
    "                                \"value\": reg_nm\n",
    "                            }\n",
    "                            for reg_nm in lista_regiones\n",
    "                         ],\n",
    "                         clearable=True,\n",
    "                        )\n",
    "    ]\n",
    ")\n",
    "# Second dropwdown will be comuna\n",
    "comuna_dropdown = html.Div(\n",
    "    [\n",
    "        html.Label('Select Comuna', htmlFor='dropdown-comuna'),\n",
    "        dcc.Dropdown(id=\"dropdown-comuna\",\n",
    "                         options=[],\n",
    "                         clearable=True,\n",
    "                         )\n",
    "    ]\n",
    ")\n",
    "# First graph\n",
    "graph1 = dbc.Card(\n",
    "    dcc.Graph(id=\"graph1\"),\n",
    "    class_name='mt-2'\n",
    ")\n",
    "# Second graph\n",
    "graph2 = dbc.Card(\n",
    "    dcc.Graph(id=\"graph2\"),\n",
    "    class_name='mt-2'\n",
    ")\n",
    "# 3rd  graph\n",
    "graph3 = dbc.Card(\n",
    "    dcc.Graph(id=\"graph3\"),\n",
    "    class_name='mt-2'\n",
    ")\n",
    "# Card with Map\n",
    "map1 = html.Div(\n",
    "    [\n",
    "        html.Label('Mapa de ', htmlFor='map'),\n",
    "        html.Div(id='map')\n",
    "    ]\n",
    ")\n",
    "## Create app layout\n",
    "app.layout = dbc.Container(\n",
    "    [\n",
    "       #Title\n",
    "       html.H2('Aplicación para buscar centros de salud en Chile',\n",
    "               className='text-center'\n",
    "        ),\n",
    "       #Row with 2 columns, each will have a drowpdown\n",
    "       dbc.Row(\n",
    "           [\n",
    "               dbc.Col(region_drowpdown),\n",
    "               dbc.Col(comuna_dropdown)\n",
    "           ]\n",
    "       ),\n",
    "       #Row with 3 columns, each will have a chart\n",
    "       dbc.Row(\n",
    "           [\n",
    "               dbc.Col(graph1, width=4),\n",
    "               dbc.Col(graph2, width=4),\n",
    "               dbc.Col(graph3, width=4)\n",
    "           ]\n",
    "       ),\n",
    "       #Space\n",
    "       html.Br(),\n",
    "       #Subtitle for the map\n",
    "       html.H3('Find your centro in the map below',\n",
    "               className='text-left'\n",
    "       ),\n",
    "       #Row with 1 column with the map\n",
    "       dbc.Row(\n",
    "           dbc.Col(map1)\n",
    "       )\n",
    "    ],\n",
    "    fluid=True\n",
    ")\n",
    "## First callback to get the list of comunas from the selected Region\n",
    "@app.callback(\n",
    "        Output('dropdown-comuna', 'options'),\n",
    "        Input('dropdown-region', 'value')\n",
    ")\n",
    "def get_comunas_options(region_val):\n",
    "    filtered_list = df[df['RegionGlosa']== region_val]\n",
    "    lista_comunas = filtered_list['ComunaGlosa'].sort_values().unique()\n",
    "    return [{\"label\": cmn_nm, \"value\": cmn_nm} for cmn_nm in lista_comunas]\n",
    "\n",
    "## Second callback to get the correct dataset and create the plots and map needed\n",
    "@app.callback(\n",
    "    Output('graph1', 'figure'),\n",
    "    Output('graph2', 'figure'),\n",
    "    Output('graph3', 'figure'),\n",
    "    Output('map', 'children'),\n",
    "    Input('dropdown-region', 'value'),\n",
    "    Input('dropdown-comuna', 'value')\n",
    ")\n",
    "def selected_map(region_val,comuna_val):\n",
    "    # Create the dataset based on selection\n",
    "    # 1. No selected region/comuna, use all data\n",
    "    if (region_val is None or region_val ==[]) and (comuna_val is None or comuna_val ==[]):\n",
    "        subset = df\n",
    "        \n",
    "    # 2. Select by region only \n",
    "    elif (comuna_val is None or comuna_val ==[]):\n",
    "        subset = df[df['RegionGlosa']== region_val]\n",
    "        \n",
    "    # 3. Select comuna only\n",
    "    elif (region_val is None or region_val ==[]):\n",
    "        region_val=df[df['ComunaGlosa']== comuna_val]['RegionGlosa'].unique()\n",
    "        subset = df[df['ComunaGlosa']== comuna_val]\n",
    "\n",
    "    # 4. Selected Region and then comuna\n",
    "    else:\n",
    "        subset = df[(df['RegionGlosa']== region_val) & (df['ComunaGlosa']== comuna_val)]\n",
    "        \n",
    "        \n",
    "    return plot_bar_h(subset, 'TipoSistemaSaludGlosa'),plot_bar_h(subset, 'NivelAtencionEstabglosa'), plot_bar_h(subset,'TipoEstablecimientoGlosa'), html.Iframe(srcDoc = plot_map(subset),width = '100%', height = '600')\n",
    "\n",
    "if __name__ == \"__main__\":\n",
    "    app.run_server(port=2223, debug=True)"
   ]
  }
 ],
 "metadata": {
  "kernelspec": {
   "display_name": "weather_venv",
   "language": "python",
   "name": "python3"
  },
  "language_info": {
   "codemirror_mode": {
    "name": "ipython",
    "version": 3
   },
   "file_extension": ".py",
   "mimetype": "text/x-python",
   "name": "python",
   "nbconvert_exporter": "python",
   "pygments_lexer": "ipython3",
   "version": "3.12.4"
  }
 },
 "nbformat": 4,
 "nbformat_minor": 2
}
